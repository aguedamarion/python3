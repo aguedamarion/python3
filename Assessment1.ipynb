{
 "cells": [
  {
   "cell_type": "markdown",
   "metadata": {},
   "source": [
    "# course_4_assessment_1"
   ]
  },
  {
   "cell_type": "markdown",
   "metadata": {},
   "source": [
    "1. Define a class called `Bike` that accepts a string and a float as input, and assigns those inputs respectively to two instance variables, `color` and `price`. Assign to the variable `testOne` an instance of `Bike` whose color is **blue** and whose price is **89.99**. Assign to the variable `testTwo` an instance of `Bike` whose color is **purple** and whose price is **25.0**."
   ]
  },
  {
   "cell_type": "code",
   "execution_count": 1,
   "metadata": {},
   "outputs": [],
   "source": [
    "class Bike():\n",
    "    def __init__(self, x, y):\n",
    "        self.color = x\n",
    "        self.price = y\n",
    "\n",
    "testOne = Bike('blue', 89.99)\n",
    "testTwo = Bike('purple', 25.0)"
   ]
  },
  {
   "cell_type": "markdown",
   "metadata": {},
   "source": [
    "2. Create a class called `AppleBasket` whose constructor accepts two inputs: a string representing a color, and a number representing a quantity of apples. The constructor should initialize two instance variables: `apple_color` and `apple_quantity`. Write a class method called `increase` that increases the quantity by 1 each time it is invoked. You should also write a `__str__` method for this class that returns a string of the format: `\"A basket of [quantity goes here] [color goes here] apples.\"` e.g. \"A basket of 4 red apples.\" or \"A basket of 50 blue apples.\""
   ]
  },
  {
   "cell_type": "code",
   "execution_count": 3,
   "metadata": {},
   "outputs": [
    {
     "name": "stdout",
     "output_type": "stream",
     "text": [
      "A basket of 4 red apples.\n"
     ]
    }
   ],
   "source": [
    "class AppleBasket:\n",
    "    def __init__(self, initX, initY):\n",
    "\n",
    "        self.apple_color = initX\n",
    "        self.apple_quantity = initY\n",
    "    \n",
    "    def increase(self):\n",
    "        return self.apple_quantity + 1\n",
    "    \n",
    "    def increase(self):\n",
    "        self.apple_quantity = self.apple_quantity + 1\n",
    "        \n",
    "    def __str__(self):\n",
    "        return \"A basket of {} {} apples.\".format(self.apple_quantity, self.apple_color)    \n",
    "\n",
    "testOne = AppleBasket('red',4)\n",
    "print(testOne)"
   ]
  },
  {
   "cell_type": "markdown",
   "metadata": {},
   "source": [
    "3. Define a class called `BankAccount` that accepts the name you want associated with your bank account in a string, and an integer that represents the amount of money in the account. The constructor should initialize two instance variables from those inputs: `name` and `amt`. Add a string method so that when you print an instance of `BankAccount`, you see `\"Your account, [name goes here], has [start_amt goes here] dollars.\"` Create an instance of this class with \"`Bob`\" as the name and `100` as the amount. Save this to the variable `t1`."
   ]
  },
  {
   "cell_type": "code",
   "execution_count": 4,
   "metadata": {},
   "outputs": [
    {
     "name": "stdout",
     "output_type": "stream",
     "text": [
      "Your account, Bob, has 100 dollars.\n"
     ]
    }
   ],
   "source": [
    "class BankAccount:\n",
    "    def __init__(self, initX, initY):\n",
    "\n",
    "        self.name = initX\n",
    "        self.amt = initY\n",
    "    \n",
    "    def __str__(self):\n",
    "        return 'Your account, {}, has {} dollars.'.format(self.name, self.amt) \n",
    "\n",
    "t1 = BankAccount('Bob',100)   \n",
    "print(t1)"
   ]
  }
 ],
 "metadata": {
  "kernelspec": {
   "display_name": "Python 3.11.0 64-bit",
   "language": "python",
   "name": "python3"
  },
  "language_info": {
   "codemirror_mode": {
    "name": "ipython",
    "version": 3
   },
   "file_extension": ".py",
   "mimetype": "text/x-python",
   "name": "python",
   "nbconvert_exporter": "python",
   "pygments_lexer": "ipython3",
   "version": "3.11.0"
  },
  "orig_nbformat": 4,
  "vscode": {
   "interpreter": {
    "hash": "1a1af0ee75eeea9e2e1ee996c87e7a2b11a0bebd85af04bb136d915cefc0abce"
   }
  }
 },
 "nbformat": 4,
 "nbformat_minor": 2
}
