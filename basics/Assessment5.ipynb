{
 "cells": [
  {
   "cell_type": "markdown",
   "metadata": {},
   "source": [
    "# course_2_assessment_5"
   ]
  },
  {
   "cell_type": "code",
   "execution_count": 1,
   "metadata": {},
   "outputs": [],
   "source": [
    "# Create a tuple called olympics with four elements: “Beijing”, “London”, “Rio”, “Tokyo”.\n",
    "\n",
    "olympics = ('Beijing', 'London', 'Rio', 'Tokyo')"
   ]
  },
  {
   "cell_type": "code",
   "execution_count": 2,
   "metadata": {},
   "outputs": [
    {
     "name": "stdout",
     "output_type": "stream",
     "text": [
      "['China', 'England', 'Brazil', 'Japan']\n"
     ]
    }
   ],
   "source": [
    "# The list below, tuples_lst, is a list of tuples. Create a list of the\n",
    "# second elements of each tuple and assign this list to the variable country.\n",
    "\n",
    "tuples_lst = [('Beijing', 'China', 2008), ('London', 'England', 2012), ('Rio', 'Brazil', 2016, 'Current'), ('Tokyo', 'Japan', 2020, 'Future')]\n",
    "\n",
    "country = []\n",
    "\n",
    "for x in tuples_lst:\n",
    "    country.append(x[1])\n",
    "print(country)"
   ]
  },
  {
   "cell_type": "code",
   "execution_count": 3,
   "metadata": {},
   "outputs": [],
   "source": [
    "# With only one line of code, assign the variables city, country, and year\n",
    "# to the values of the tuple olymp.\n",
    "\n",
    "olymp = ('Rio', 'Brazil', 2016)\n",
    "city, country, year = olymp"
   ]
  },
  {
   "cell_type": "code",
   "execution_count": null,
   "metadata": {},
   "outputs": [],
   "source": [
    "# Define a function called info with five parameters: \n",
    "# name, gender, age, bday_month, and hometown. The function should then return\n",
    "# a tuple with all five parameters in that order.\n",
    "\n",
    "def info(name, gender, age, bday_month, hometown):\n",
    "    return name, gender, age, bday_month, hometown"
   ]
  },
  {
   "cell_type": "code",
   "execution_count": 4,
   "metadata": {},
   "outputs": [],
   "source": [
    "# Given is the dictionary, gold, which shows the country and the number of gold\n",
    "# medals they have earned so far in the 2016 Olympics. Create a list,\n",
    "# num_medals, that contains only the number of medals for each country.\n",
    "# You must use the .items() method. Note: The .items() method provides a list\n",
    "# of tuples. Do not use .keys() method.\n",
    "\n",
    "gold = {'USA':31, 'Great Britain':19, 'China':19, 'Germany':13, 'Russia':12, 'Japan':10, 'France':8, 'Italy':8}\n",
    "num_medals = []\n",
    "\n",
    "for i in gold.items():\n",
    "    num_medals.append(i[1])"
   ]
  }
 ],
 "metadata": {
  "kernelspec": {
   "display_name": "Python 3.11.0 64-bit",
   "language": "python",
   "name": "python3"
  },
  "language_info": {
   "codemirror_mode": {
    "name": "ipython",
    "version": 3
   },
   "file_extension": ".py",
   "mimetype": "text/x-python",
   "name": "python",
   "nbconvert_exporter": "python",
   "pygments_lexer": "ipython3",
   "version": "3.11.0"
  },
  "orig_nbformat": 4,
  "vscode": {
   "interpreter": {
    "hash": "1a1af0ee75eeea9e2e1ee996c87e7a2b11a0bebd85af04bb136d915cefc0abce"
   }
  }
 },
 "nbformat": 4,
 "nbformat_minor": 2
}
