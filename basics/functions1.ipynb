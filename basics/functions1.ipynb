{
 "cells": [
  {
   "cell_type": "markdown",
   "metadata": {},
   "source": [
    "# course_2_assessment_4"
   ]
  },
  {
   "cell_type": "code",
   "execution_count": 3,
   "metadata": {},
   "outputs": [],
   "source": [
    "# 1. Write a function called int_return that takes an integer as input and\n",
    "# returns the same integer.\n",
    "\n",
    "def int_return(x):\n",
    "    return x"
   ]
  },
  {
   "cell_type": "code",
   "execution_count": 4,
   "metadata": {},
   "outputs": [],
   "source": [
    "# 2. Write a function called add that takes any number as its input and\n",
    "# returns that sum with 2 added.\n",
    "\n",
    "def add(num):\n",
    "    sum = num + 2\n",
    "    return sum"
   ]
  },
  {
   "cell_type": "code",
   "execution_count": 5,
   "metadata": {},
   "outputs": [],
   "source": [
    "# 3. Write a function called change that takes any string, adds “Nice to meet\n",
    "# you!” to the end of the argument given, and returns that new string.\n",
    "\n",
    "def change(str):\n",
    "    newstr = str + 'Nice to meet you!'\n",
    "    return newstr"
   ]
  },
  {
   "cell_type": "code",
   "execution_count": 6,
   "metadata": {},
   "outputs": [],
   "source": [
    "# 4. Write a function, accum, that takes a list of integers as input and\n",
    "# returns the sum of those integers.\n",
    "\n",
    "def accum(lst):\n",
    "    summ = 0\n",
    "    for i in lst:\n",
    "        summ = summ + i\n",
    "    return summ\n"
   ]
  },
  {
   "cell_type": "code",
   "execution_count": 8,
   "metadata": {},
   "outputs": [
    {
     "data": {
      "text/plain": [
       "'Less than 5.'"
      ]
     },
     "execution_count": 8,
     "metadata": {},
     "output_type": "execute_result"
    }
   ],
   "source": [
    "# Write a function, length, that takes in a list as the input. If the length \n",
    "# of the list is greater than or equal to 5, return “Longer than 5”. If the \n",
    "# length is less than 5, return “Less than 5”.\n",
    "\n",
    "def length(lst):\n",
    "    if len(lst) >= 5:\n",
    "        return(\"Longer than 5\")\n",
    "    else:\n",
    "        return(\"Less than 5\")"
   ]
  },
  {
   "cell_type": "code",
   "execution_count": 9,
   "metadata": {},
   "outputs": [],
   "source": [
    "# You will need to write two functions for this problem. The first function,\n",
    "# divide that takes in any number and returns that same number divided by 2.\n",
    "# The second function called sum should take any number, divide it by 2, and\n",
    "# add 6. It should return this new number. You should call the divide function\n",
    "# within the sum function. Do not worry about decimals.\n",
    "\n",
    "def divide(x):\n",
    "    return x/2\n",
    "\n",
    "def sum(x):\n",
    "    return divide(x)+6"
   ]
  }
 ],
 "metadata": {
  "kernelspec": {
   "display_name": "Python 3.11.0 64-bit",
   "language": "python",
   "name": "python3"
  },
  "language_info": {
   "codemirror_mode": {
    "name": "ipython",
    "version": 3
   },
   "file_extension": ".py",
   "mimetype": "text/x-python",
   "name": "python",
   "nbconvert_exporter": "python",
   "pygments_lexer": "ipython3",
   "version": "3.11.0"
  },
  "orig_nbformat": 4,
  "vscode": {
   "interpreter": {
    "hash": "1a1af0ee75eeea9e2e1ee996c87e7a2b11a0bebd85af04bb136d915cefc0abce"
   }
  }
 },
 "nbformat": 4,
 "nbformat_minor": 2
}
