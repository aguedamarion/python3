{
 "cells": [
  {
   "cell_type": "markdown",
   "metadata": {},
   "source": [
    "# course_2_assessment_6"
   ]
  },
  {
   "cell_type": "code",
   "execution_count": 1,
   "metadata": {},
   "outputs": [
    {
     "name": "stdout",
     "output_type": "stream",
     "text": [
      "[1, 2, 3, 4]\n"
     ]
    }
   ],
   "source": [
    "# Write a function, sublist, that takes in a list of numbers as the parameter. \n",
    "# In the function, use a while loop to return a sublist of the input list. \n",
    "# The sublist should contain the same values of the original list up until it \n",
    "# reaches the number 5 (it should not contain the number 5).\n",
    "\n",
    "def sublist(x):\n",
    "    sub = []\n",
    "    x = (num for num in x) \n",
    "    num = next(x, 5)  \n",
    "    while num != 5:\n",
    "        sub.append(num)\n",
    "        num = next(x, 5)  \n",
    "    return sub\n",
    "\n",
    "x = [1, 2, 3, 4, 5, 6, 7, 8, 9, 10]\n",
    "print(sublist(x))"
   ]
  },
  {
   "cell_type": "code",
   "execution_count": 2,
   "metadata": {},
   "outputs": [
    {
     "name": "stdout",
     "output_type": "stream",
     "text": [
      "[1, 2, 3, 4, 5, 6]\n"
     ]
    }
   ],
   "source": [
    "# Write a function called check_nums that takes a list as its parameter, and\n",
    "# contains a while loop that only stops once the element of the list is the\n",
    "# number 7. What is returned is a list of all of the numbers up until it reaches 7.\n",
    "\n",
    "def check_nums(x):\n",
    "    sub = []\n",
    "    x = (num for num in x) \n",
    "    num = next(x, 7)  \n",
    "    while num != 7:\n",
    "        sub.append(num)\n",
    "        num = next(x, 7)  \n",
    "    return sub\n",
    "\n",
    "x = [1, 2, 3, 4, 5, 6, 7, 8, 9, 10]\n",
    "print(check_nums(x))"
   ]
  },
  {
   "cell_type": "code",
   "execution_count": 3,
   "metadata": {},
   "outputs": [],
   "source": [
    "# Write a function, sublist, that takes in a list of strings as the parameter. \n",
    "# In the function, use a while loop to return a sublist of the input list. \n",
    "# The sublist should contain the same values of the original list up until it \n",
    "# reaches the string “STOP” (it should not contain the string “STOP”).\n",
    "\n",
    "def sublist(lst):\n",
    "    i = 0\n",
    "    while i < len(lst):\n",
    "        if (lst[i] == 'STOP'):\n",
    "            return lst[0:i]\n",
    "        i+=1\n",
    "    return lst[0:i]"
   ]
  },
  {
   "cell_type": "code",
   "execution_count": 4,
   "metadata": {},
   "outputs": [],
   "source": [
    "# Write a function called stop_at_z that iterates through a list of strings.\n",
    "# Using a while loop, append each string to a new list until the string that\n",
    "# appears is “z”. The function should return the new list.\n",
    "\n",
    "def stop_at_z(lst):\n",
    "    i = 0\n",
    "    while i < len(lst):\n",
    "        if (lst[i] == 'z'):\n",
    "            return lst[0:i]\n",
    "        i+=1\n",
    "    return lst[0:i]"
   ]
  },
  {
   "cell_type": "code",
   "execution_count": 5,
   "metadata": {},
   "outputs": [],
   "source": [
    "# Below is a for loop that works. Underneath the for loop, rewrite the problem\n",
    "# so that it does the same thing, but using a while loop instead of a for loop.\n",
    "# Assign the accumulated total in the while loop code to the variable sum2.\n",
    "# Once complete, sum2 should equal sum1.\n",
    "\n",
    "sum1 = 0\n",
    "sum2 = 0\n",
    "i = 0\n",
    "lst = [65, 78, 21, 33]\n",
    "\n",
    "#for x in lst:\n",
    "#    sum1 = sum1 + x\n",
    "#print(sum1)\n",
    "while i < len(lst):\n",
    "\n",
    "    sum2 += lst[i]\n",
    "    i = i + 1\n",
    "    \n",
    "#print(sum2)"
   ]
  },
  {
   "cell_type": "code",
   "execution_count": null,
   "metadata": {},
   "outputs": [],
   "source": [
    "# Challenge: Write a function called beginning that takes a list as input and\n",
    "# contains a while loop that only stops once the element of the list is the\n",
    "# string ‘bye’. What is returned is a list that contains up to the first 10\n",
    "# strings, regardless of where the loop stops. (i.e., if it stops on the 32nd\n",
    "# element, the first 10 are returned. If “bye” is the 5th element, the first 4\n",
    "# are returned.) If you want to make this even more of a challenge, do this\n",
    "# without slicing.\n",
    "\n",
    "def beginning(lst):\n",
    "    i = 0 \n",
    "    new_lst = []\n",
    "    while i < len(lst):\n",
    "        if lst[i] != \"bye\" :\n",
    "            new_lst.append(lst[i])\n",
    "        else :\n",
    "            break\n",
    "        i = i + 1\n",
    "    return new_lst[:10]"
   ]
  }
 ],
 "metadata": {
  "kernelspec": {
   "display_name": "Python 3.11.0 64-bit",
   "language": "python",
   "name": "python3"
  },
  "language_info": {
   "codemirror_mode": {
    "name": "ipython",
    "version": 3
   },
   "file_extension": ".py",
   "mimetype": "text/x-python",
   "name": "python",
   "nbconvert_exporter": "python",
   "pygments_lexer": "ipython3",
   "version": "3.11.0"
  },
  "orig_nbformat": 4,
  "vscode": {
   "interpreter": {
    "hash": "1a1af0ee75eeea9e2e1ee996c87e7a2b11a0bebd85af04bb136d915cefc0abce"
   }
  }
 },
 "nbformat": 4,
 "nbformat_minor": 2
}
