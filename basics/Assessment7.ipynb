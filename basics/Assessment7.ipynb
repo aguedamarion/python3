{
 "cells": [
  {
   "cell_type": "markdown",
   "metadata": {},
   "source": [
    "# course_2_assessment_7"
   ]
  },
  {
   "cell_type": "code",
   "execution_count": 1,
   "metadata": {},
   "outputs": [],
   "source": [
    "# Create a function called mult that has two parameters, the first is required and should\n",
    "# be an integer, the second is an optional parameter that can either be a number or a \n",
    "# string but whose default is 6. The function should return the first parameter multiplied\n",
    "# by the second.\n",
    "\n",
    "def mult(a,b=6):\n",
    "    return a*b"
   ]
  },
  {
   "cell_type": "code",
   "execution_count": 2,
   "metadata": {},
   "outputs": [
    {
     "name": "stdout",
     "output_type": "stream",
     "text": [
      "Hello Bob!\n",
      "Hello !\n",
      "Hello Bob!!!\n"
     ]
    }
   ],
   "source": [
    "# The following function, greeting, does not work. Please fix the code so that it runs\n",
    "# without error. This only requires one change in the definition of the function.\n",
    "\n",
    "#def greeting(greeting=\"Hello \", name, excl=\"!\"):\n",
    "#    return greeting + name + excl\n",
    "#\n",
    "#print(greeting(\"Bob\"))\n",
    "#print(greeting(\"\"))\n",
    "#print(greeting(\"Bob\", excl=\"!!!\"))\n",
    "\n",
    "def greeting(name, greeting=\"Hello \",excl=\"!\"):\n",
    "    return greeting + name + excl\n",
    "\n",
    "print(greeting(\"Bob\"))\n",
    "print(greeting(\"\"))\n",
    "print(greeting(\"Bob\", excl=\"!!!\"))"
   ]
  },
  {
   "cell_type": "code",
   "execution_count": 3,
   "metadata": {},
   "outputs": [],
   "source": [
    "# Below is a function, sum, that does not work. Change the function definition so the code\n",
    "# works. The function should still have a required parameter, intx, and an optional parameter,\n",
    "# intz with a defualt value of 5.\n",
    "\n",
    "# def sum(intz=5, intx):\n",
    "#     return intz + intx\n",
    "\n",
    "def sum(intx, intz=5):\n",
    "    return intz + intx"
   ]
  },
  {
   "cell_type": "code",
   "execution_count": 4,
   "metadata": {},
   "outputs": [],
   "source": [
    "# Write a function, test, that takes in three parameters: a required integer, an optional\n",
    "# boolean whose default value is True, and an optional dictionary, called dict1, whose\n",
    "# default value is {2:3, 4:5, 6:8}. If the boolean parameter is True, the function should\n",
    "# test to see if the integer is a key in the dictionary. The value of that key should then\n",
    "# be returned. If the boolean parameter is False, return the boolean value “False”.\n",
    "\n",
    "def test(x, abool = True, dict1 = {2:3, 4:5, 6:8}):\n",
    "    return abool and dict1.get(x, False)"
   ]
  },
  {
   "cell_type": "code",
   "execution_count": 5,
   "metadata": {},
   "outputs": [],
   "source": [
    "# Write a function called checkingIfIn that takes three parameters. The first is a required\n",
    "# parameter, which should be a string. The second is an optional parameter called direction\n",
    "# with a default value of True. The third is an optional parameter called d that has a\n",
    "# default value of {'apple': 2, 'pear': 1, 'fruit': 19, 'orange': 5, 'banana': 3, 'grapes': 2,\n",
    "#  'watermelon': 7}. Write the function checkingIfIn so that when the second parameter is True,\n",
    "#  it checks to see if the first parameter is a key in the third parameter; if it is, return True,\n",
    "#  otherwise return False.\n",
    "\n",
    "# But if the second paramter is False, then the function should check to see if the first \n",
    "# parameter is not a key of the third. If it’s not, the function should return True in this\n",
    "# case, and if it is, it should return False.\n",
    "\n",
    "def checkingIfIn(a, direction = True, d = {'apple': 2, 'pear': 1, 'fruit': 19, 'orange': 5,\n",
    "                                            'banana': 3, 'grapes': 2, 'watermelon': 7}):\n",
    "    if direction == True:\n",
    "        if a in d:\n",
    "            return True \n",
    "        else:\n",
    "            return False\n",
    "    else:\n",
    "        if a not in d:\n",
    "            return True\n",
    "        else:\n",
    "            return False"
   ]
  },
  {
   "cell_type": "code",
   "execution_count": null,
   "metadata": {},
   "outputs": [],
   "source": [
    "# We have provided the function checkingIfIn such that if the first input parameter is\n",
    "# in the third, dictionary, input parameter, then the function returns that value, and\n",
    "# otherwise, it returns False. Follow the instructions in the active code window for\n",
    "# specific variable assignmemts.\n",
    "\n",
    "def checkingIfIn(a, direction = True, d = {'apple': 2, 'pear': 1, 'fruit': 19, 'orange': 5, 'banana': 3, 'grapes': 2, 'watermelon': 7}):\n",
    "    if direction == True:\n",
    "        if a in d:\n",
    "            return d[a]\n",
    "        else:\n",
    "            return False\n",
    "    else:\n",
    "        if a not in d:\n",
    "            return True\n",
    "        else:\n",
    "            return d[a]\n",
    "\n",
    "# Call the function so that it returns False and assign that function call to the variable c_false\n",
    "c_false = checkingIfIn('peas')\n",
    "# Call the fucntion so that it returns True and assign it to the variable c_true\n",
    "c_true = checkingIfIn('apples', False, {'carrots': 1, 'peas': 9, 'potatos': 8, 'corn': 32, 'beans': 1})\n",
    "# Call the function so that the value of fruit is assigned to the variable fruit_ans\n",
    "fruit_ans= checkingIfIn('fruit')\n",
    "# Call the function using the first and third parameter so that the value 8 is assigned to the variable param_check\n",
    "param_check = checkingIfIn('potatos', False, {'carrots': 1, 'peas': 9, 'potatos': 8, 'corn': 32, 'beans': 1})\n"
   ]
  }
 ],
 "metadata": {
  "kernelspec": {
   "display_name": "Python 3.11.0 64-bit",
   "language": "python",
   "name": "python3"
  },
  "language_info": {
   "codemirror_mode": {
    "name": "ipython",
    "version": 3
   },
   "file_extension": ".py",
   "mimetype": "text/x-python",
   "name": "python",
   "nbconvert_exporter": "python",
   "pygments_lexer": "ipython3",
   "version": "3.11.0"
  },
  "orig_nbformat": 4,
  "vscode": {
   "interpreter": {
    "hash": "1a1af0ee75eeea9e2e1ee996c87e7a2b11a0bebd85af04bb136d915cefc0abce"
   }
  }
 },
 "nbformat": 4,
 "nbformat_minor": 2
}
