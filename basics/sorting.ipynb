{
 "cells": [
  {
   "cell_type": "markdown",
   "metadata": {},
   "source": [
    "# course_2_assessment_8"
   ]
  },
  {
   "cell_type": "code",
   "execution_count": 1,
   "metadata": {},
   "outputs": [],
   "source": [
    "# Sort the following string alphabetically, from z to a, and assign it to the variable sorted_letters.\n",
    "\n",
    "letters = \"alwnfiwaksuezlaeiajsdl\"\n",
    "sorted_letters = sorted(letters, reverse = True)"
   ]
  },
  {
   "cell_type": "code",
   "execution_count": 2,
   "metadata": {},
   "outputs": [],
   "source": [
    "# Sort the list below, animals, into alphabetical order, a-z. Save the new list as\n",
    "# animals_sorted.\n",
    "\n",
    "animals = ['elephant', 'cat', 'moose', 'antelope', 'elk', 'rabbit', 'zebra', 'yak', 'salamander', 'deer', 'otter', 'minx', 'giraffe', 'goat', 'cow', 'tiger', 'bear']\n",
    "animals_sorted = sorted(animals)\n"
   ]
  },
  {
   "cell_type": "code",
   "execution_count": 3,
   "metadata": {},
   "outputs": [],
   "source": [
    "# The dictionary, medals, shows the medal count for six countries during the Rio Olympics.\n",
    "# Sort the country names so they appear alphabetically. Save this list to the variable\n",
    "# alphabetical.\n",
    "medals = {'Japan':41, 'Russia':56, 'South Korea':21, 'United States':121,\n",
    "            'Germany':42, 'China':70}\n",
    "alphabetical = sorted(medals)"
   ]
  },
  {
   "cell_type": "code",
   "execution_count": 4,
   "metadata": {},
   "outputs": [],
   "source": [
    "# Given the same dictionary, medals, now sort by the medal count. Save the three countries\n",
    "# with the highest medal count to the list, top_three.\n",
    "\n",
    "top_three = []\n",
    "medals = {'Japan':41, 'Russia':56, 'South Korea':21, 'United States':121, 'Germany':42,\n",
    "            'China':70}\n",
    "def highest(x,y):\n",
    "    return y[x]\n",
    "ks = medals.keys()\n",
    "top_three = sorted(ks, key=lambda x : highest(x,medals),reverse = True)[:3]"
   ]
  },
  {
   "cell_type": "code",
   "execution_count": 5,
   "metadata": {},
   "outputs": [],
   "source": [
    "# We have provided the dictionary groceries. You should return a list of its keys, but they\n",
    "# should be sorted by their values, from highest to lowest. Save the new list as most_needed.\n",
    "\n",
    "groceries = {'apples': 5, 'pasta': 3, 'carrots': 12, 'orange juice': 2, 'bananas': 8, 'popcorn': 1,\n",
    "             'salsa': 3, 'cereal': 4, 'coffee': 5, 'granola bars': 15, 'onions': 7, 'rice': 1,\n",
    "             'peanut butter': 2, 'spinach': 9}\n",
    "most_needed = []\n",
    "def needed(x,y):\n",
    "    return y[x]\n",
    "ks = groceries.keys()\n",
    "most_needed = sorted(ks, key=lambda x:needed(x,groceries), reverse = True)"
   ]
  },
  {
   "cell_type": "code",
   "execution_count": 6,
   "metadata": {},
   "outputs": [
    {
     "name": "stdout",
     "output_type": "stream",
     "text": [
      "[17570002, 17572342, 17572345, 17573005, 17579000, 17579329]\n"
     ]
    }
   ],
   "source": [
    "# Create a function called last_four that takes in a single ID number and returns the last\n",
    "# four digits. For example, the number 17573005 should return 3005. Then, use the resulting\n",
    "# function to sort the list of ids stored in the variable, ids, from lowest to highest. Save\n",
    "# this sorted list in the variable, sorted_ids. Hint: Remember that only strings can be indexed,\n",
    "# so conversions may be needed.\n",
    "\n",
    "ids = [17573005, 17572342, 17579000, 17570002, 17572345, 17579329]\n",
    "\n",
    "def last_four(x):\n",
    "    return (str(x)[-4:])\n",
    "last_four(ids)\n",
    "\n",
    "sorted_ids = sorted(ids, key=last_four )\n",
    "print(sorted_ids)"
   ]
  },
  {
   "cell_type": "code",
   "execution_count": 7,
   "metadata": {},
   "outputs": [],
   "source": [
    "# Sort the list ids by the last four digits of each id. Do this using lambda and not using a defined function. Save this sorted list in the variable sorted_id.\n",
    "\n",
    "ids = [17573005, 17572342, 17579000, 17570002, 17572345, 17579329]\n",
    "\n",
    "sorted_id = sorted(ids, key=lambda x: str(x)[-4:])"
   ]
  },
  {
   "cell_type": "code",
   "execution_count": null,
   "metadata": {},
   "outputs": [],
   "source": [
    "# Sort the following list by each element’s second letter a to z. Do so by using lambda.\n",
    "# Assign the resulting value to the variable lambda_sort.\n",
    "\n",
    "ex_lst = ['hi', 'how are you', 'bye', 'apple', 'zebra', 'dance']\n",
    "\n",
    "lambda_sort = sorted(ex_lst, key = lambda x: x[1])"
   ]
  }
 ],
 "metadata": {
  "kernelspec": {
   "display_name": "Python 3.11.0 64-bit",
   "language": "python",
   "name": "python3"
  },
  "language_info": {
   "codemirror_mode": {
    "name": "ipython",
    "version": 3
   },
   "file_extension": ".py",
   "mimetype": "text/x-python",
   "name": "python",
   "nbconvert_exporter": "python",
   "pygments_lexer": "ipython3",
   "version": "3.11.0"
  },
  "orig_nbformat": 4,
  "vscode": {
   "interpreter": {
    "hash": "1a1af0ee75eeea9e2e1ee996c87e7a2b11a0bebd85af04bb136d915cefc0abce"
   }
  }
 },
 "nbformat": 4,
 "nbformat_minor": 2
}
